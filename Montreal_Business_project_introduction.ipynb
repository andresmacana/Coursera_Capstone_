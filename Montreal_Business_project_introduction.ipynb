{
 "cells": [
  {
   "cell_type": "markdown",
   "metadata": {},
   "source": [
    "# Montreal office products gap"
   ]
  },
  {
   "cell_type": "markdown",
   "metadata": {},
   "source": [
    "## Introduction"
   ]
  },
  {
   "cell_type": "markdown",
   "metadata": {},
   "source": [
    "In my neighborhood, it's very difficult to find a bookstore, office products and scholar items like a paper, pens, erasers, folders, set of colors, etc, We have in Montreal very good stores, but there are far away from here. A business opportunity appears because many people don't want to move to downtown or cross the river to go south and the most important, it's not funny to take the bus or car at 19 hours trying to finding paper for the printer. Then I take advantage of this, the necessity creates a solution."
   ]
  },
  {
   "cell_type": "markdown",
   "metadata": {},
   "source": [
    "I'm sure that the community of my neighborhood will be happy with a business like that, close to everyone. In this community, we cover all ages from school students to university students, workers, and retired people that still very active. "
   ]
  },
  {
   "cell_type": "markdown",
   "metadata": {},
   "source": [
    "My friends and I discuss this and always we said 'may we can open a store here' but the problems start to pop up and the most important question: How we can have a certitude if this business will be viable? Well, now I can put the machine learning in action and start the project."
   ]
  },
  {
   "cell_type": "code",
   "execution_count": null,
   "metadata": {},
   "outputs": [],
   "source": []
  }
 ],
 "metadata": {
  "kernelspec": {
   "display_name": "Python 3",
   "language": "python",
   "name": "python3"
  },
  "language_info": {
   "codemirror_mode": {
    "name": "ipython",
    "version": 3
   },
   "file_extension": ".py",
   "mimetype": "text/x-python",
   "name": "python",
   "nbconvert_exporter": "python",
   "pygments_lexer": "ipython3",
   "version": "3.6.8"
  }
 },
 "nbformat": 4,
 "nbformat_minor": 2
}
