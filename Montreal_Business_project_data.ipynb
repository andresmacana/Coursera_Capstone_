{
 "cells": [
  {
   "cell_type": "markdown",
   "metadata": {},
   "source": [
    "# DATA SECTION"
   ]
  },
  {
   "cell_type": "markdown",
   "metadata": {},
   "source": [
    "**Description of the data and how it will be used to solve the problem**"
   ]
  },
  {
   "cell_type": "markdown",
   "metadata": {},
   "source": [
    "The first part I will find information about Montreal and the neighborhoods showing the stores of interest making clusters. After that, I will be focused on my neighborhood.\n",
    "Then with Foursquare, I will complete the situation showing up the map with the problem 'in situ'.\n",
    "And of course, the ideas coming up between lines of code. "
   ]
  },
  {
   "cell_type": "markdown",
   "metadata": {},
   "source": [
    "I will start with this Wikipedia page: https://en.wikipedia.org/wiki/Boroughs_of_Montreal with this page I will get the boroughs and the population. "
   ]
  },
  {
   "cell_type": "markdown",
   "metadata": {},
   "source": [
    "With this link: https://en.wikipedia.org/wiki/List_of_postal_codes_of_Canada:_H I will get the postal codes of  Montreal."
   ]
  },
  {
   "cell_type": "markdown",
   "metadata": {},
   "source": [
    "For my idea, I will try to get information about the stores with Foursquare location data. I think that it's enough with these three sources of data. But, maybe I can find a csv file with the points of interest and add it to the analysis."
   ]
  },
  {
   "cell_type": "code",
   "execution_count": null,
   "metadata": {},
   "outputs": [],
   "source": []
  }
 ],
 "metadata": {
  "kernelspec": {
   "display_name": "Python 3",
   "language": "python",
   "name": "python3"
  },
  "language_info": {
   "codemirror_mode": {
    "name": "ipython",
    "version": 3
   },
   "file_extension": ".py",
   "mimetype": "text/x-python",
   "name": "python",
   "nbconvert_exporter": "python",
   "pygments_lexer": "ipython3",
   "version": "3.6.8"
  }
 },
 "nbformat": 4,
 "nbformat_minor": 2
}
