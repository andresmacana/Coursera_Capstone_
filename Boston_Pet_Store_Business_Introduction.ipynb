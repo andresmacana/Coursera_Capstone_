{
 "cells": [
  {
   "cell_type": "markdown",
   "metadata": {},
   "source": []
  },
  {
   "cell_type": "markdown",
   "metadata": {},
   "source": [
    "# BOSTON PET STORE BUSINESS "
   ]
  },
  {
   "cell_type": "markdown",
   "metadata": {},
   "source": [
    "**Introduction**"
   ]
  },
  {
   "cell_type": "markdown",
   "metadata": {},
   "source": [
    "In this time people are worried about pets, from spiders to horses, and now that people spend more time in social media, many of them decide to have a pet friend. The problem in many cities is access to the pet store, sometimes are far away from home. In this case, I'm not only want to analyze where the pet store is, but I also want to add two components, a coffee shop and a pizza place. Why? Because I think that the most popular venues can help to develop a new business helping with a big flux of people. "
   ]
  },
  {
   "cell_type": "markdown",
   "metadata": {},
   "source": [
    "***Why it is important to solve*** Well, from one side it's a business opportunity because every city needs more pets stores and these need to be close home. And on the other side, the people want a place close home where to find the important things for their pets. We have the necessity of society and we can contribute to this gap.  "
   ]
  },
  {
   "cell_type": "markdown",
   "metadata": {},
   "source": [
    "***The target audience*** I'm sure that the community of my neighborhood will be happy with a business like that, close to everyone. In this community, we cover all ages from school students to university students, workers, and retired people that have a pet and want to care about them. "
   ]
  },
  {
   "cell_type": "markdown",
   "metadata": {},
   "source": [
    "My friends and I discuss this and always we said 'may we can open a store here' but the problems start to pop up and the most important question: How we can have a certitude if this business will be viable? Well, now I can put the machine learning in action and start the project."
   ]
  },
  {
   "cell_type": "code",
   "execution_count": null,
   "metadata": {},
   "outputs": [],
   "source": []
  }
 ],
 "metadata": {
  "kernelspec": {
   "display_name": "Python 3",
   "language": "python",
   "name": "python3"
  },
  "language_info": {
   "codemirror_mode": {
    "name": "ipython",
    "version": 3
   },
   "file_extension": ".py",
   "mimetype": "text/x-python",
   "name": "python",
   "nbconvert_exporter": "python",
   "pygments_lexer": "ipython3",
   "version": "3.6.8"
  }
 },
 "nbformat": 4,
 "nbformat_minor": 2
}
